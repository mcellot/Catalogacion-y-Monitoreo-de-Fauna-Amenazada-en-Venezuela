{
  "cells": [
    {
      "cell_type": "markdown",
      "metadata": {
        "id": "view-in-github",
        "colab_type": "text"
      },
      "source": [
        "<a href=\"https://colab.research.google.com/github/mcellot/Catalogacion-y-Monitoreo-de-Fauna-Amenazada-en-Venezuela/blob/main/Proyecto_sunsamg.ipynb\" target=\"_parent\"><img src=\"https://colab.research.google.com/assets/colab-badge.svg\" alt=\"Open In Colab\"/></a>"
      ]
    },
    {
      "cell_type": "markdown",
      "metadata": {
        "id": "yczOZc0AoxxD"
      },
      "source": [
        "# Modelo\n"
      ]
    },
    {
      "cell_type": "code",
      "execution_count": null,
      "metadata": {
        "colab": {
          "base_uri": "https://localhost:8080/"
        },
        "id": "ikxa5hvTavuj",
        "outputId": "a7132f0a-081b-45eb-fa69-d8cb516ba94d"
      },
      "outputs": [
        {
          "output_type": "stream",
          "name": "stdout",
          "text": [
            "Mounted at /content/drive\n"
          ]
        }
      ],
      "source": [
        "from google.colab import drive\n",
        "drive.mount('/content/drive')"
      ]
    },
    {
      "cell_type": "markdown",
      "metadata": {
        "id": "CmZxnMgeK57Q"
      },
      "source": [
        "modelo redirigdo a clasificacion de animales con base de vgg16\n"
      ]
    },
    {
      "cell_type": "code",
      "execution_count": null,
      "metadata": {
        "colab": {
          "base_uri": "https://localhost:8080/"
        },
        "id": "3JagcGEIoTUS",
        "outputId": "c520af90-0b53-486c-a1ae-5d01a782f47f"
      },
      "outputs": [
        {
          "name": "stdout",
          "output_type": "stream",
          "text": [
            "✅ No se encontró la carpeta '.ipynb_checkpoints'.\n"
          ]
        }
      ],
      "source": [
        "import shutil\n",
        "import os\n",
        "\n",
        "train_checkpoints_path = os.path.join(train_dir, \".ipynb_checkpoints\")\n",
        "\n",
        "# Verifica si la carpeta existe y elimínala\n",
        "if os.path.exists(train_checkpoints_path):\n",
        "    shutil.rmtree(train_checkpoints_path)\n",
        "    print(\"📂 Carpeta '.ipynb_checkpoints' eliminada con éxito.\")\n",
        "else:\n",
        "    print(\"✅ No se encontró la carpeta '.ipynb_checkpoints'.\")\n"
      ]
    },
    {
      "cell_type": "code",
      "execution_count": null,
      "metadata": {
        "colab": {
          "base_uri": "https://localhost:8080/"
        },
        "id": "4JXPFGtCj6Nj",
        "outputId": "298be3a5-8e88-4a5d-9a82-28a5a454c93c"
      },
      "outputs": [
        {
          "name": "stdout",
          "output_type": "stream",
          "text": [
            "📂 Carpeta '.ipynb_checkpoints' eliminada con éxito en el directorio de testeo.\n"
          ]
        }
      ],
      "source": [
        "import shutil\n",
        "import os\n",
        "\n",
        "# Define la ruta para la carpeta de testeo\n",
        "test_dir = \"/content/drive/MyDrive/dataset_peligro_de_extincion/test\"  # Reemplaza esto con tu ruta correspondiente\n",
        "test_checkpoints_path = os.path.join(test_dir, \".ipynb_checkpoints\")\n",
        "\n",
        "# Verifica si la carpeta existe y elimínala\n",
        "if os.path.exists(test_checkpoints_path):\n",
        "    shutil.rmtree(test_checkpoints_path)\n",
        "    print(\"📂 Carpeta '.ipynb_checkpoints' eliminada con éxito en el directorio de testeo.\")\n",
        "else:\n",
        "    print(\"✅ No se encontró la carpeta '.ipynb_checkpoints' en el directorio de testeo.\")\n"
      ]
    },
    {
      "cell_type": "markdown",
      "source": [
        "Modelo de 16 Categorias"
      ],
      "metadata": {
        "id": "ayR7DL1rr0wp"
      }
    },
    {
      "cell_type": "code",
      "execution_count": null,
      "metadata": {
        "colab": {
          "base_uri": "https://localhost:8080/"
        },
        "id": "52ZxgcDIS_3s",
        "outputId": "10c54f4a-7889-47a5-99c3-d20e9385cb0d"
      },
      "outputs": [
        {
          "name": "stdout",
          "output_type": "stream",
          "text": [
            "Found 2770 images belonging to 16 classes.\n",
            "Found 160 images belonging to 16 classes.\n",
            "Clases en entrenamiento: {'Perico Multicolor': 0, 'Tortuga arrau': 1, 'ballena de aletas': 2, 'gato tigre': 3, 'jaguar': 4, 'jicotea': 5, 'la cotorra cabeciamarilla': 6, 'manati de las Indias': 7, 'mono araña': 8, 'mono nocturno': 9, 'oso andino': 10, 'oso hormiguero gigante': 11, 'pato de torrente': 12, 'paují de yelmo': 13, 'tonina': 14, 'venado andino': 15}\n",
            "Clases en validación: {'Perico Multicolor': 0, 'Tortuga arrau': 1, 'ballena de aletas': 2, 'gato tigre': 3, 'jaguar': 4, 'jicotea': 5, 'la cotorra cabeciamarilla': 6, 'manati de las Indias': 7, 'mono araña': 8, 'mono nocturno': 9, 'oso andino': 10, 'oso hormiguero gigante': 11, 'pato de torrente': 12, 'paují de yelmo': 13, 'tonina': 14, 'venado andino': 15}\n",
            "Epoch 1/20\n",
            "\u001b[1m86/86\u001b[0m \u001b[32m━━━━━━━━━━━━━━━━━━━━\u001b[0m\u001b[37m\u001b[0m \u001b[1m60s\u001b[0m 665ms/step - accuracy: 0.1777 - loss: 2.6651 - val_accuracy: 0.4938 - val_loss: 1.7647\n",
            "Epoch 2/20\n",
            "\u001b[1m86/86\u001b[0m \u001b[32m━━━━━━━━━━━━━━━━━━━━\u001b[0m\u001b[37m\u001b[0m \u001b[1m1s\u001b[0m 15ms/step - accuracy: 0.3750 - loss: 1.8258 - val_accuracy: 0.5063 - val_loss: 1.7590\n",
            "Epoch 3/20\n",
            "\u001b[1m86/86\u001b[0m \u001b[32m━━━━━━━━━━━━━━━━━━━━\u001b[0m\u001b[37m\u001b[0m \u001b[1m78s\u001b[0m 652ms/step - accuracy: 0.4507 - loss: 1.7729 - val_accuracy: 0.6750 - val_loss: 1.3451\n",
            "Epoch 4/20\n",
            "\u001b[1m86/86\u001b[0m \u001b[32m━━━━━━━━━━━━━━━━━━━━\u001b[0m\u001b[37m\u001b[0m \u001b[1m1s\u001b[0m 15ms/step - accuracy: 0.6875 - loss: 1.3221 - val_accuracy: 0.6750 - val_loss: 1.3301\n",
            "Epoch 5/20\n",
            "\u001b[1m86/86\u001b[0m \u001b[32m━━━━━━━━━━━━━━━━━━━━\u001b[0m\u001b[37m\u001b[0m \u001b[1m81s\u001b[0m 656ms/step - accuracy: 0.5921 - loss: 1.3881 - val_accuracy: 0.7500 - val_loss: 1.0194\n",
            "Epoch 6/20\n",
            "\u001b[1m86/86\u001b[0m \u001b[32m━━━━━━━━━━━━━━━━━━━━\u001b[0m\u001b[37m\u001b[0m \u001b[1m2s\u001b[0m 17ms/step - accuracy: 0.5938 - loss: 1.3238 - val_accuracy: 0.7437 - val_loss: 1.0152\n",
            "Epoch 7/20\n",
            "\u001b[1m86/86\u001b[0m \u001b[32m━━━━━━━━━━━━━━━━━━━━\u001b[0m\u001b[37m\u001b[0m \u001b[1m56s\u001b[0m 652ms/step - accuracy: 0.6712 - loss: 1.1153 - val_accuracy: 0.7750 - val_loss: 0.8894\n",
            "Epoch 8/20\n",
            "\u001b[1m86/86\u001b[0m \u001b[32m━━━━━━━━━━━━━━━━━━━━\u001b[0m\u001b[37m\u001b[0m \u001b[1m1s\u001b[0m 14ms/step - accuracy: 0.6875 - loss: 0.8546 - val_accuracy: 0.7750 - val_loss: 0.8935\n",
            "Epoch 9/20\n",
            "\u001b[1m86/86\u001b[0m \u001b[32m━━━━━━━━━━━━━━━━━━━━\u001b[0m\u001b[37m\u001b[0m \u001b[1m80s\u001b[0m 650ms/step - accuracy: 0.7158 - loss: 0.9973 - val_accuracy: 0.7812 - val_loss: 0.8079\n",
            "Epoch 10/20\n",
            "\u001b[1m86/86\u001b[0m \u001b[32m━━━━━━━━━━━━━━━━━━━━\u001b[0m\u001b[37m\u001b[0m \u001b[1m1s\u001b[0m 15ms/step - accuracy: 0.7500 - loss: 0.9830 - val_accuracy: 0.7750 - val_loss: 0.7981\n",
            "Epoch 11/20\n",
            "\u001b[1m86/86\u001b[0m \u001b[32m━━━━━━━━━━━━━━━━━━━━\u001b[0m\u001b[37m\u001b[0m \u001b[1m56s\u001b[0m 649ms/step - accuracy: 0.7550 - loss: 0.8578 - val_accuracy: 0.7812 - val_loss: 0.7586\n",
            "Epoch 12/20\n",
            "\u001b[1m86/86\u001b[0m \u001b[32m━━━━━━━━━━━━━━━━━━━━\u001b[0m\u001b[37m\u001b[0m \u001b[1m1s\u001b[0m 15ms/step - accuracy: 0.8750 - loss: 0.6856 - val_accuracy: 0.7812 - val_loss: 0.7564\n",
            "Epoch 13/20\n",
            "\u001b[1m86/86\u001b[0m \u001b[32m━━━━━━━━━━━━━━━━━━━━\u001b[0m\u001b[37m\u001b[0m \u001b[1m81s\u001b[0m 653ms/step - accuracy: 0.7789 - loss: 0.7888 - val_accuracy: 0.8375 - val_loss: 0.6599\n",
            "Epoch 14/20\n",
            "\u001b[1m86/86\u001b[0m \u001b[32m━━━━━━━━━━━━━━━━━━━━\u001b[0m\u001b[37m\u001b[0m \u001b[1m1s\u001b[0m 14ms/step - accuracy: 0.8750 - loss: 0.6190 - val_accuracy: 0.8313 - val_loss: 0.6565\n",
            "Epoch 15/20\n",
            "\u001b[1m86/86\u001b[0m \u001b[32m━━━━━━━━━━━━━━━━━━━━\u001b[0m\u001b[37m\u001b[0m \u001b[1m56s\u001b[0m 655ms/step - accuracy: 0.8117 - loss: 0.6761 - val_accuracy: 0.8687 - val_loss: 0.6168\n",
            "Epoch 16/20\n",
            "\u001b[1m86/86\u001b[0m \u001b[32m━━━━━━━━━━━━━━━━━━━━\u001b[0m\u001b[37m\u001b[0m \u001b[1m1s\u001b[0m 15ms/step - accuracy: 0.8438 - loss: 0.7972 - val_accuracy: 0.8562 - val_loss: 0.6161\n",
            "Epoch 17/20\n",
            "\u001b[1m86/86\u001b[0m \u001b[32m━━━━━━━━━━━━━━━━━━━━\u001b[0m\u001b[37m\u001b[0m \u001b[1m57s\u001b[0m 666ms/step - accuracy: 0.8111 - loss: 0.6546 - val_accuracy: 0.8375 - val_loss: 0.5677\n",
            "Epoch 18/20\n",
            "\u001b[1m86/86\u001b[0m \u001b[32m━━━━━━━━━━━━━━━━━━━━\u001b[0m\u001b[37m\u001b[0m \u001b[1m1s\u001b[0m 15ms/step - accuracy: 0.8438 - loss: 0.4984 - val_accuracy: 0.8562 - val_loss: 0.5629\n",
            "Epoch 19/20\n",
            "\u001b[1m86/86\u001b[0m \u001b[32m━━━━━━━━━━━━━━━━━━━━\u001b[0m\u001b[37m\u001b[0m \u001b[1m57s\u001b[0m 666ms/step - accuracy: 0.8273 - loss: 0.6002 - val_accuracy: 0.8750 - val_loss: 0.5339\n",
            "Epoch 20/20\n",
            "\u001b[1m86/86\u001b[0m \u001b[32m━━━━━━━━━━━━━━━━━━━━\u001b[0m\u001b[37m\u001b[0m \u001b[1m1s\u001b[0m 15ms/step - accuracy: 0.7812 - loss: 0.7140 - val_accuracy: 0.8625 - val_loss: 0.5282\n"
          ]
        },
        {
          "name": "stderr",
          "output_type": "stream",
          "text": [
            "WARNING:absl:You are saving your model as an HDF5 file via `model.save()` or `keras.saving.save_model(model)`. This file format is considered legacy. We recommend using instead the native Keras format, e.g. `model.save('my_model.keras')` or `keras.saving.save_model(model, 'my_model.keras')`. \n"
          ]
        },
        {
          "name": "stdout",
          "output_type": "stream",
          "text": [
            "Drive already mounted at /content/drive; to attempt to forcibly remount, call drive.mount(\"/content/drive\", force_remount=True).\n"
          ]
        }
      ],
      "source": [
        "import tensorflow as tf\n",
        "from tensorflow.keras.applications import VGG16\n",
        "from tensorflow.keras.preprocessing.image import ImageDataGenerator\n",
        "from tensorflow.keras.layers import Dense, Flatten, Dropout\n",
        "from tensorflow.keras.models import Model\n",
        "from tensorflow.keras.optimizers import Adam\n",
        "from google.colab import drive\n",
        "\n",
        "# ------------------------------------------------------------------------------\n",
        "\n",
        "# 1. Cargar el modelo VGG16 preentrenado\n",
        "# ------------------------------------------------------------------------------\n",
        "\n",
        "base_model = VGG16(weights='imagenet', include_top=False, input_shape=(224, 224, 3))\n",
        "\n",
        "# Congelar las capas del modelo base\n",
        "for layer in base_model.layers:\n",
        "    layer.trainable = False\n",
        "\n",
        "# ------------------------------------------------------------------------------\n",
        "\n",
        "# 2. Agregar capas personalizadas encima del modelo base\n",
        "# ------------------------------------------------------------------------------\n",
        "\n",
        "x = base_model.output\n",
        "x = Flatten()(x)  # Aplanar la salida\n",
        "x = Dense(256, activation='relu')(x)  # Capa densa\n",
        "x = Dropout(0.5)(x)  # Capa de Dropout\n",
        "predictions = Dense(16, activation='softmax')(x)  # Capa de salida\n",
        "\n",
        "# Definir el modelo final\n",
        "model = Model(inputs=base_model.input, outputs=predictions)\n",
        "\n",
        "# Compilar el modelo\n",
        "model.compile(optimizer=Adam(learning_rate=0.0001), loss='categorical_crossentropy', metrics=['accuracy'])\n",
        "\n",
        "# Crear generadores de datos para entrenamiento y validación\n",
        "train_datagen = ImageDataGenerator(\n",
        "    rescale=1./255,\n",
        "    shear_range=0.2,\n",
        "    zoom_range=0.2,\n",
        "    horizontal_flip=True)\n",
        "\n",
        "validation_datagen = ImageDataGenerator(rescale=1./255)\n",
        "\n",
        "# Definir las rutas a tus carpetas de entrenamiento y validación\n",
        "train_dir = '/content/drive/MyDrive/dataset_peligro_de_extincion/train'\n",
        "validation_dir = '/content/drive/MyDrive/dataset_peligro_de_extincion/test'\n",
        "\n",
        "# Generador para el conjunto de entrenamiento\n",
        "train_generator = train_datagen.flow_from_directory(\n",
        "    train_dir,\n",
        "    target_size=(224, 224),\n",
        "    batch_size=32,\n",
        "    class_mode='categorical',\n",
        "    color_mode=\"rgb\")\n",
        "\n",
        "# Generador para el conjunto de validación\n",
        "validation_generator = validation_datagen.flow_from_directory(\n",
        "    validation_dir,\n",
        "    target_size=(224, 224),\n",
        "    batch_size=32,\n",
        "    class_mode='categorical',\n",
        "    color_mode=\"rgb\")\n",
        "\n",
        "print(\"Clases en entrenamiento:\", train_generator.class_indices)\n",
        "print(\"Clases en validación:\", validation_generator.class_indices)\n",
        "\n",
        "# ------------------------------------------------------------------------------\n",
        "\n",
        "# 4. Entrenar el modelo\n",
        "# ------------------------------------------------------------------------------\n",
        "\n",
        "model.fit(\n",
        "    train_generator,\n",
        "    steps_per_epoch=max(1, train_generator.samples // train_generator.batch_size),\n",
        "    validation_data=validation_generator,\n",
        "    validation_steps=max(1, validation_generator.samples // validation_generator.batch_size),\n",
        "    epochs=20)\n",
        "\n",
        "# Guardar el modelo entrenado\n",
        "drive.mount('/content/drive')\n",
        "model.save('/content/drive/MyDrive/Modelos/modelo_vgg16_v4_16cat3.h5')\n"
      ]
    },
    {
      "cell_type": "markdown",
      "metadata": {
        "id": "2A1r6ozmtC4v"
      },
      "source": [
        "Para fines de ejemplo"
      ]
    },
    {
      "cell_type": "code",
      "execution_count": null,
      "metadata": {
        "colab": {
          "base_uri": "https://localhost:8080/"
        },
        "id": "wkaXrRMhK4mh",
        "outputId": "89e5997b-00d2-4b11-c74c-c0b28e9d83b4"
      },
      "outputs": [
        {
          "name": "stdout",
          "output_type": "stream",
          "text": [
            "Downloading data from https://storage.googleapis.com/tensorflow/keras-applications/vgg16/vgg16_weights_tf_dim_ordering_tf_kernels_notop.h5\n",
            "\u001b[1m58889256/58889256\u001b[0m \u001b[32m━━━━━━━━━━━━━━━━━━━━\u001b[0m\u001b[37m\u001b[0m \u001b[1m0s\u001b[0m 0us/step\n",
            "Found 2770 images belonging to 16 classes.\n",
            "Found 160 images belonging to 16 classes.\n",
            "Clases en entrenamiento: {'Perico Multicolor': 0, 'Tortuga arrau': 1, 'ballena de aletas': 2, 'gato tigre': 3, 'jaguar': 4, 'jicotea': 5, 'la cotorra cabeciamarilla': 6, 'manati de las Indias': 7, 'mono araña': 8, 'mono nocturno': 9, 'oso andino': 10, 'oso hormiguero gigante': 11, 'pato de torrente': 12, 'paují de yelmo': 13, 'tonina': 14, 'venado andino': 15}\n",
            "Clases en prueba: {'Perico Multicolor': 0, 'Tortuga arrau': 1, 'ballena de aletas': 2, 'gato tigre': 3, 'jaguar': 4, 'jicotea': 5, 'la cotorra cabeciamarilla': 6, 'manati de las Indias': 7, 'mono araña': 8, 'mono nocturno': 9, 'oso andino': 10, 'oso hormiguero gigante': 11, 'pato de torrente': 12, 'paují de yelmo': 13, 'tonina': 14, 'venado andino': 15}\n"
          ]
        },
        {
          "name": "stderr",
          "output_type": "stream",
          "text": [
            "/usr/local/lib/python3.11/dist-packages/keras/src/trainers/data_adapters/py_dataset_adapter.py:121: UserWarning: Your `PyDataset` class should call `super().__init__(**kwargs)` in its constructor. `**kwargs` can include `workers`, `use_multiprocessing`, `max_queue_size`. Do not pass these arguments to `fit()`, as they will be ignored.\n",
            "  self._warn_if_super_not_called()\n"
          ]
        },
        {
          "name": "stdout",
          "output_type": "stream",
          "text": [
            "Epoch 1/20\n",
            "\u001b[1m43/43\u001b[0m \u001b[32m━━━━━━━━━━━━━━━━━━━━\u001b[0m\u001b[37m\u001b[0m \u001b[1m1183s\u001b[0m 27s/step - accuracy: 0.1492 - loss: 2.7637 - val_accuracy: 0.4844 - val_loss: 1.9418\n",
            "Epoch 2/20\n",
            "\u001b[1m 1/43\u001b[0m \u001b[37m━━━━━━━━━━━━━━━━━━━━\u001b[0m \u001b[1m10s\u001b[0m 262ms/step - accuracy: 0.3438 - loss: 2.1463"
          ]
        },
        {
          "name": "stderr",
          "output_type": "stream",
          "text": [
            "/usr/local/lib/python3.11/dist-packages/keras/src/trainers/epoch_iterator.py:107: UserWarning: Your input ran out of data; interrupting training. Make sure that your dataset or generator can generate at least `steps_per_epoch * epochs` batches. You may need to use the `.repeat()` function when building your dataset.\n",
            "  self._interrupted_warning()\n"
          ]
        },
        {
          "name": "stdout",
          "output_type": "stream",
          "text": [
            "\b\b\b\b\b\b\b\b\b\b\b\b\b\b\b\b\b\b\b\b\b\b\b\b\b\b\b\b\b\b\b\b\b\b\b\b\b\b\b\b\b\b\b\b\b\b\b\b\b\b\b\b\b\b\b\b\b\b\b\b\b\b\b\b\b\b\b\b\b\b\b\b\b\b\b\r\u001b[1m43/43\u001b[0m \u001b[32m━━━━━━━━━━━━━━━━━━━━\u001b[0m\u001b[37m\u001b[0m \u001b[1m4s\u001b[0m 101ms/step - accuracy: 0.3438 - loss: 2.1463 - val_accuracy: 0.4922 - val_loss: 1.9032\n",
            "Epoch 3/20\n",
            "\u001b[1m43/43\u001b[0m \u001b[32m━━━━━━━━━━━━━━━━━━━━\u001b[0m\u001b[37m\u001b[0m \u001b[1m91s\u001b[0m 1s/step - accuracy: 0.4417 - loss: 1.8510 - val_accuracy: 0.7031 - val_loss: 1.3165\n",
            "Epoch 4/20\n",
            "\u001b[1m43/43\u001b[0m \u001b[32m━━━━━━━━━━━━━━━━━━━━\u001b[0m\u001b[37m\u001b[0m \u001b[1m2s\u001b[0m 40ms/step - accuracy: 0.5312 - loss: 1.4720 - val_accuracy: 0.7188 - val_loss: 1.2611\n",
            "Epoch 5/20\n",
            "\u001b[1m43/43\u001b[0m \u001b[32m━━━━━━━━━━━━━━━━━━━━\u001b[0m\u001b[37m\u001b[0m \u001b[1m82s\u001b[0m 1s/step - accuracy: 0.5574 - loss: 1.4477 - val_accuracy: 0.7109 - val_loss: 1.1579\n",
            "Epoch 6/20\n",
            "\u001b[1m43/43\u001b[0m \u001b[32m━━━━━━━━━━━━━━━━━━━━\u001b[0m\u001b[37m\u001b[0m \u001b[1m2s\u001b[0m 30ms/step - accuracy: 0.6562 - loss: 1.3089 - val_accuracy: 0.7422 - val_loss: 1.0910\n",
            "Epoch 7/20\n",
            "\u001b[1m43/43\u001b[0m \u001b[32m━━━━━━━━━━━━━━━━━━━━\u001b[0m\u001b[37m\u001b[0m \u001b[1m57s\u001b[0m 1s/step - accuracy: 0.6420 - loss: 1.2202 - val_accuracy: 0.7734 - val_loss: 0.9650\n",
            "Epoch 8/20\n",
            "\u001b[1m43/43\u001b[0m \u001b[32m━━━━━━━━━━━━━━━━━━━━\u001b[0m\u001b[37m\u001b[0m \u001b[1m2s\u001b[0m 27ms/step - accuracy: 0.6250 - loss: 1.1527 - val_accuracy: 0.7500 - val_loss: 0.9887\n",
            "Epoch 9/20\n",
            "\u001b[1m43/43\u001b[0m \u001b[32m━━━━━━━━━━━━━━━━━━━━\u001b[0m\u001b[37m\u001b[0m \u001b[1m82s\u001b[0m 1s/step - accuracy: 0.7078 - loss: 1.0103 - val_accuracy: 0.7812 - val_loss: 0.8788\n",
            "Epoch 10/20\n",
            "\u001b[1m43/43\u001b[0m \u001b[32m━━━━━━━━━━━━━━━━━━━━\u001b[0m\u001b[37m\u001b[0m \u001b[1m1s\u001b[0m 28ms/step - accuracy: 0.7031 - loss: 0.9421 - val_accuracy: 0.8047 - val_loss: 0.8241\n",
            "Epoch 11/20\n",
            "\u001b[1m43/43\u001b[0m \u001b[32m━━━━━━━━━━━━━━━━━━━━\u001b[0m\u001b[37m\u001b[0m \u001b[1m78s\u001b[0m 1s/step - accuracy: 0.7392 - loss: 0.9041 - val_accuracy: 0.8125 - val_loss: 0.7395\n",
            "Epoch 12/20\n",
            "\u001b[1m43/43\u001b[0m \u001b[32m━━━━━━━━━━━━━━━━━━━━\u001b[0m\u001b[37m\u001b[0m \u001b[1m2s\u001b[0m 29ms/step - accuracy: 0.7969 - loss: 0.8535 - val_accuracy: 0.8047 - val_loss: 0.7703\n",
            "Epoch 13/20\n",
            "\u001b[1m43/43\u001b[0m \u001b[32m━━━━━━━━━━━━━━━━━━━━\u001b[0m\u001b[37m\u001b[0m \u001b[1m82s\u001b[0m 2s/step - accuracy: 0.7815 - loss: 0.7802 - val_accuracy: 0.8047 - val_loss: 0.7501\n",
            "Epoch 14/20\n",
            "\u001b[1m43/43\u001b[0m \u001b[32m━━━━━━━━━━━━━━━━━━━━\u001b[0m\u001b[37m\u001b[0m \u001b[1m1s\u001b[0m 26ms/step - accuracy: 0.8438 - loss: 0.6778 - val_accuracy: 0.7969 - val_loss: 0.7890\n",
            "Epoch 15/20\n",
            "\u001b[1m43/43\u001b[0m \u001b[32m━━━━━━━━━━━━━━━━━━━━\u001b[0m\u001b[37m\u001b[0m \u001b[1m55s\u001b[0m 1s/step - accuracy: 0.7888 - loss: 0.7611 - val_accuracy: 0.8672 - val_loss: 0.6128\n",
            "Epoch 16/20\n",
            "\u001b[1m43/43\u001b[0m \u001b[32m━━━━━━━━━━━━━━━━━━━━\u001b[0m\u001b[37m\u001b[0m \u001b[1m2s\u001b[0m 34ms/step - accuracy: 0.7500 - loss: 0.7661 - val_accuracy: 0.8359 - val_loss: 0.6647\n",
            "Epoch 17/20\n",
            "\u001b[1m43/43\u001b[0m \u001b[32m━━━━━━━━━━━━━━━━━━━━\u001b[0m\u001b[37m\u001b[0m \u001b[1m56s\u001b[0m 1s/step - accuracy: 0.8226 - loss: 0.6558 - val_accuracy: 0.8281 - val_loss: 0.6429\n",
            "Epoch 18/20\n",
            "\u001b[1m43/43\u001b[0m \u001b[32m━━━━━━━━━━━━━━━━━━━━\u001b[0m\u001b[37m\u001b[0m \u001b[1m2s\u001b[0m 28ms/step - accuracy: 0.7969 - loss: 0.5601 - val_accuracy: 0.8203 - val_loss: 0.6656\n",
            "Epoch 19/20\n",
            "\u001b[1m43/43\u001b[0m \u001b[32m━━━━━━━━━━━━━━━━━━━━\u001b[0m\u001b[37m\u001b[0m \u001b[1m82s\u001b[0m 2s/step - accuracy: 0.8403 - loss: 0.6026 - val_accuracy: 0.8203 - val_loss: 0.6123\n",
            "Epoch 20/20\n",
            "\u001b[1m43/43\u001b[0m \u001b[32m━━━━━━━━━━━━━━━━━━━━\u001b[0m\u001b[37m\u001b[0m \u001b[1m1s\u001b[0m 26ms/step - accuracy: 0.8281 - loss: 0.5723 - val_accuracy: 0.8125 - val_loss: 0.6312\n"
          ]
        },
        {
          "name": "stderr",
          "output_type": "stream",
          "text": [
            "WARNING:absl:You are saving your model as an HDF5 file via `model.save()` or `keras.saving.save_model(model)`. This file format is considered legacy. We recommend using instead the native Keras format, e.g. `model.save('my_model.keras')` or `keras.saving.save_model(model, 'my_model.keras')`. \n",
            "WARNING:absl:You are saving your model as an HDF5 file via `model.save()` or `keras.saving.save_model(model)`. This file format is considered legacy. We recommend using instead the native Keras format, e.g. `model.save('my_model.keras')` or `keras.saving.save_model(model, 'my_model.keras')`. \n"
          ]
        },
        {
          "name": "stdout",
          "output_type": "stream",
          "text": [
            "Drive already mounted at /content/drive; to attempt to forcibly remount, call drive.mount(\"/content/drive\", force_remount=True).\n"
          ]
        }
      ],
      "source": [
        "import tensorflow as tf\n",
        "from tensorflow.keras.applications import VGG16\n",
        "from tensorflow.keras.preprocessing.image import ImageDataGenerator\n",
        "from tensorflow.keras.layers import Dense, Flatten, Dropout\n",
        "from tensorflow.keras.models import Model\n",
        "from tensorflow.keras.optimizers import Adam\n",
        "\n",
        "# ------------------------------------------------------------------------------\n",
        "# 1. Cargar el modelo VGG16 preentrenado (sin la parte superior, es decir, sin\n",
        "#    las capas densas de clasificación originales). Esto permite agregar nuevas\n",
        "#    capas personalizadas para tu propio conjunto de clases.\n",
        "# ------------------------------------------------------------------------------\n",
        "base_model = VGG16(weights='imagenet', include_top=False, input_shape=(224, 224, 3))\n",
        "\n",
        "# Congelar las capas del modelo base para evitar que sus pesos se modifiquen en el\n",
        "# entrenamiento inicial. Luego puedes descongelar algunas capas para fine-tuning.\n",
        "for layer in base_model.layers:\n",
        "    layer.trainable = False\n",
        "\n",
        "# ------------------------------------------------------------------------------\n",
        "# 2. Agregar capas personalizadas encima del modelo base\n",
        "# ------------------------------------------------------------------------------\n",
        "x = base_model.output\n",
        "x = Flatten()(x)                     # Aplanar la salida para conectarla a capas densas\n",
        "x = Dense(256, activation='relu')(x)   # Capa densa de 256 neuronas con activación ReLU\n",
        "x = Dropout(0.5)(x)                  # Capa de Dropout para evitar overfitting\n",
        "\n",
        "# Capa de salida: si yo vi el video\n",
        "# - Si tienes, por ejemplo, 2 clases, usa 2 neuronas y activación softmax.\n",
        "# - Si tienes más clases, cambia el número '2' al número de clases que tengas.\n",
        "predictions = Dense(16, activation='softmax')(x)\n",
        "\n",
        "# Definir el modelo final uniendo el modelo base con las nuevas capas\n",
        "model = Model(inputs=base_model.input, outputs=predictions)\n",
        "\n",
        "# Compilar el modelo\n",
        "model.compile(optimizer=Adam(learning_rate=0.0001), loss='categorical_crossentropy', metrics=['accuracy'])\n",
        "\n",
        "\n",
        "# Crear generadores de datos para entrenamiento y validación\n",
        "train_datagen = ImageDataGenerator(\n",
        "    rescale=1./255,           # Normalización de imágenes\n",
        "    shear_range=0.2,          # Transformaciones para aumentar la variedad\n",
        "    zoom_range=0.2,\n",
        "    horizontal_flip=True)\n",
        "\n",
        "validation_datagen = ImageDataGenerator(rescale=1./255)\n",
        "\n",
        "# Define las rutas a tus carpetas de entrenamiento y validación\n",
        "train_dir = '/content/drive/MyDrive/dataset_peligro_de_extincion/train'\n",
        "validation_dir = '/content/drive/MyDrive/dataset_peligro_de_extincion/test'\n",
        "\n",
        "# Generador para el conjunto de entrenamiento\n",
        "train_generator = train_datagen.flow_from_directory(train_dir,\n",
        "    target_size=(224, 224),   # Redimensionar imágenes para que coincidan con el input del modelo\n",
        "    batch_size=32,\n",
        "    class_mode='categorical',\n",
        "    color_mode=\"rgb\")  # Asegurar que todas las imágenes sean RGB\n",
        " # 'categorical' para clasificación multiclase\n",
        "\n",
        "\n",
        "# Generador para el conjunto de validación\n",
        "validation_generator = validation_datagen.flow_from_directory(\n",
        "    validation_dir,\n",
        "    target_size=(224, 224),\n",
        "    batch_size=32,\n",
        "    color_mode=\"rgb\",  # Asegurar que todas las imágenes sean RGB ok pero tengo q subir la data vdd\n",
        "\n",
        "    class_mode='categorical')\n",
        "print(\"Clases en entrenamiento:\", train_generator.class_indices)\n",
        "print(\"Clases en prueba:\", validation_generator.class_indices)\n",
        "# ------------------------------------------------------------------------------\n",
        "# 4. Entrenar el modelo dale pe dejemops este\n",
        "# ------------------------------------------------------------------------------\n",
        "model.fit(\n",
        "    train_generator,\n",
        "    steps_per_epoch=max(1, train_generator.samples // train_generator.batch_size),#train_generator.samples // train_generator.batch_size,\n",
        "    validation_data=validation_generator,\n",
        "    validation_steps=max(1, validation_generator.samples // validation_generator.batch_size),#validation_generator.samples // validation_generator.batch_size,\n",
        "    epochs=20) # Puedes ajustar el número de epochs según sea necesario\n",
        "\n",
        "# Guardar el modelo entrenado #ok:((((((((((((((((((((((()))))))))))))))))))))))\n",
        "model.save('modelo_vgg16_v4_16cat2.h5')\n",
        "from google.colab import drive\n",
        "drive.mount('/content/drive')\n",
        "model.save('/content/drive/MyDrive/Modelos/modelo_vgg16_v4_16cat2.h5')\n"
      ]
    },
    {
      "cell_type": "markdown",
      "metadata": {
        "id": "BPw9TcfuymC_"
      },
      "source": [
        "medidas de  accuracy y loss"
      ]
    },
    {
      "cell_type": "code",
      "execution_count": null,
      "metadata": {
        "colab": {
          "base_uri": "https://localhost:8080/"
        },
        "id": "qTydFHovmGU4",
        "outputId": "1c654500-6a0d-432b-82d9-e02ebb2e1757"
      },
      "outputs": [
        {
          "name": "stderr",
          "output_type": "stream",
          "text": [
            "WARNING:absl:Compiled the loaded model, but the compiled metrics have yet to be built. `model.compile_metrics` will be empty until you train or evaluate the model.\n"
          ]
        },
        {
          "name": "stdout",
          "output_type": "stream",
          "text": [
            "Found 160 images belonging to 16 classes.\n",
            "\u001b[1m5/5\u001b[0m \u001b[32m━━━━━━━━━━━━━━━━━━━━\u001b[0m\u001b[37m\u001b[0m \u001b[1m2s\u001b[0m 193ms/step - accuracy: 0.8439 - loss: 0.5826\n",
            "Test Loss: 0.5282164812088013\n",
            "Test Accuracy: 0.862500011920929\n"
          ]
        }
      ],
      "source": [
        "import tensorflow as tf\n",
        "from tensorflow.keras.models import load_model\n",
        "from tensorflow.keras.preprocessing.image import ImageDataGenerator\n",
        "\n",
        "# Ruta del modelo guardado (ajusta la ruta según corresponda)\n",
        "model_path = '/content/drive/MyDrive/Modelos/modelo_vgg16_v4_16cat3.h5'\n",
        "\n",
        "# Cargar el modelo\n",
        "model = load_model(model_path)\n",
        "\n",
        "# Crear un ImageDataGenerator para normalizar las imágenes\n",
        "test_datagen = ImageDataGenerator(rescale=1./255)\n",
        "\n",
        "# Definir la ruta de tu conjunto de test (asegúrate de que la estructura de carpetas tenga subcarpetas por clase)\n",
        "test_dir = '/content/drive/MyDrive/dataset_peligro_de_extincion/test'\n",
        "\n",
        "# Crear el generador para el conjunto de test:\n",
        "# Esto redimensionará las imágenes a (224, 224) y las convertirá a RGB (color_mode=\"rgb\")\n",
        "test_generator = test_datagen.flow_from_directory(\n",
        "    directory=test_dir,\n",
        "    target_size=(224, 224),\n",
        "    batch_size=32,\n",
        "    color_mode=\"rgb\",\n",
        "    class_mode='categorical',  # O 'sparse' si usaste sparse_categorical_crossentropy\n",
        "    shuffle=False\n",
        ")\n",
        "\n",
        "# Evaluar el modelo usando el generador de test\n",
        "steps = max(1, test_generator.samples // test_generator.batch_size)\n",
        "test_loss, test_accuracy = model.evaluate(test_generator, steps=steps)\n",
        "\n",
        "print(\"Test Loss:\", test_loss)\n",
        "print(\"Test Accuracy:\", test_accuracy)\n",
        "\n"
      ]
    },
    {
      "cell_type": "markdown",
      "metadata": {
        "id": "xitUMSaOyfXX"
      },
      "source": [
        "estadisticas del modelo"
      ]
    },
    {
      "cell_type": "code",
      "execution_count": null,
      "metadata": {
        "colab": {
          "base_uri": "https://localhost:8080/",
          "height": 1000
        },
        "id": "PyrEf7O-qmJP",
        "outputId": "415fdba0-fe19-435c-b39d-435f527299b6"
      },
      "outputs": [
        {
          "name": "stderr",
          "output_type": "stream",
          "text": [
            "WARNING:absl:Compiled the loaded model, but the compiled metrics have yet to be built. `model.compile_metrics` will be empty until you train or evaluate the model.\n"
          ]
        },
        {
          "name": "stdout",
          "output_type": "stream",
          "text": [
            "Found 160 images belonging to 16 classes.\n"
          ]
        },
        {
          "name": "stderr",
          "output_type": "stream",
          "text": [
            "/usr/local/lib/python3.11/dist-packages/keras/src/trainers/data_adapters/py_dataset_adapter.py:121: UserWarning: Your `PyDataset` class should call `super().__init__(**kwargs)` in its constructor. `**kwargs` can include `workers`, `use_multiprocessing`, `max_queue_size`. Do not pass these arguments to `fit()`, as they will be ignored.\n",
            "  self._warn_if_super_not_called()\n"
          ]
        },
        {
          "name": "stdout",
          "output_type": "stream",
          "text": [
            "\u001b[1m5/5\u001b[0m \u001b[32m━━━━━━━━━━━━━━━━━━━━\u001b[0m\u001b[37m\u001b[0m \u001b[1m2s\u001b[0m 177ms/step\n"
          ]
        },
        {
          "data": {
            "image/png": "[encoded data removed]",
            "text/plain": [
              "<Figure size 800x600 with 2 Axes>"
            ]
          },
          "metadata": {},
          "output_type": "display_data"
        },
        {
          "name": "stdout",
          "output_type": "stream",
          "text": [
            "Informe de Clasificación:\n",
            "\n",
            "                           precision    recall  f1-score   support\n",
            "\n",
            "        Perico Multicolor       0.89      0.80      0.84        10\n",
            "            Tortuga arrau       1.00      0.60      0.75        10\n",
            "        ballena de aletas       0.90      0.90      0.90        10\n",
            "               gato tigre       1.00      0.80      0.89        10\n",
            "                   jaguar       0.75      0.90      0.82        10\n",
            "                  jicotea       0.82      0.90      0.86        10\n",
            "la cotorra cabeciamarilla       1.00      1.00      1.00        10\n",
            "     manati de las Indias       1.00      0.90      0.95        10\n",
            "              mono araña       0.71      1.00      0.83        10\n",
            "            mono nocturno       0.67      0.60      0.63        10\n",
            "               oso andino       0.91      1.00      0.95        10\n",
            "   oso hormiguero gigante       0.83      1.00      0.91        10\n",
            "         pato de torrente       0.83      1.00      0.91        10\n",
            "          paují de yelmo       0.90      0.90      0.90        10\n",
            "                   tonina       0.89      0.80      0.84        10\n",
            "            venado andino       0.88      0.70      0.78        10\n",
            "\n",
            "                 accuracy                           0.86       160\n",
            "                macro avg       0.87      0.86      0.86       160\n",
            "             weighted avg       0.87      0.86      0.86       160\n",
            "\n"
          ]
        }
      ],
      "source": [
        "import tensorflow as tf\n",
        "import numpy as np\n",
        "import matplotlib.pyplot as plt\n",
        "import seaborn as sns\n",
        "from tensorflow.keras.models import load_model\n",
        "from tensorflow.keras.preprocessing.image import ImageDataGenerator\n",
        "from sklearn.metrics import confusion_matrix, classification_report\n",
        "\n",
        "# Ruta del modelo guardado\n",
        "model_path = '/content/drive/MyDrive/Modelos/modelo_vgg16_v4_16cat3.h5'\n",
        "model = load_model(model_path)\n",
        "\n",
        "# Crear un ImageDataGenerator para el conjunto de test (normalizando las imágenes)\n",
        "test_datagen = ImageDataGenerator(rescale=1./255)\n",
        "\n",
        "# Directorio del conjunto de test\n",
        "test_dir = '/content/drive/MyDrive/dataset_peligro_de_extincion/test'\n",
        "\n",
        "# Crear el generador para el conjunto de test:\n",
        "test_generator = test_datagen.flow_from_directory(\n",
        "    directory=test_dir,\n",
        "    target_size=(224, 224),\n",
        "    batch_size=32,\n",
        "    color_mode=\"rgb\",\n",
        "    class_mode='categorical',  # 'categorical' para clasificación multiclase\n",
        "    shuffle=False  # Importante para mantener el orden de las etiquetas verdaderas\n",
        ")\n",
        "\n",
        "# Calcular el número de pasos necesarios y convertirlo a entero\n",
        "steps = int(np.ceil(test_generator.samples / test_generator.batch_size))\n",
        "\n",
        "# Realizar las predicciones en el conjunto de test\n",
        "predictions = model.predict(test_generator, steps=steps)\n",
        "\n",
        "# Convertir las predicciones (probabilidades) en etiquetas\n",
        "predicted_classes = np.argmax(predictions, axis=1)\n",
        "\n",
        "# Extraer las etiquetas verdaderas del generador\n",
        "true_classes = test_generator.classes\n",
        "class_labels = list(test_generator.class_indices.keys())\n",
        "\n",
        "# Calcular la matriz de confusión\n",
        "cm = confusion_matrix(true_classes, predicted_classes)\n",
        "\n",
        "# Mostrar la matriz de confusión con Seaborn\n",
        "plt.figure(figsize=(8, 6))\n",
        "sns.heatmap(cm, annot=True, fmt=\"d\", cmap=\"Blues\",\n",
        "            xticklabels=class_labels, yticklabels=class_labels)\n",
        "plt.xlabel(\"Clases Predichas\")\n",
        "plt.ylabel(\"Clases Reales\")\n",
        "plt.title(\"Matriz de Confusión\")\n",
        "plt.show()\n",
        "\n",
        "# Mostrar el informe de clasificación\n",
        "print(\"Informe de Clasificación:\\n\")\n",
        "print(classification_report(true_classes, predicted_classes, target_names=class_labels))\n"
      ]
    },
    {
      "cell_type": "markdown",
      "metadata": {
        "id": "rZ68Naoiyaun"
      },
      "source": [
        "prueba del modelo"
      ]
    },
    {
      "cell_type": "code",
      "execution_count": null,
      "metadata": {
        "colab": {
          "base_uri": "https://localhost:8080/"
        },
        "id": "MVcUREJf8dK1",
        "outputId": "42f60688-ccb4-4467-fb4f-ab748ac9b7cc"
      },
      "outputs": [
        {
          "name": "stderr",
          "output_type": "stream",
          "text": [
            "WARNING:absl:Compiled the loaded model, but the compiled metrics have yet to be built. `model.compile_metrics` will be empty until you train or evaluate the model.\n"
          ]
        },
        {
          "name": "stdout",
          "output_type": "stream",
          "text": [
            "https://lh3.googleusercontent.com/proxy/Gi5qnyuOZ6KqrC4nSrpdwjbhLSyRmHZrHj_R8_n-U8ACSZMNdhhH8YKr6jpAr6WuE36PaazldPles3RlQDpi4OURiqPIQRqxBC45BUyFVH80doWAdssrr-Q\n",
            "Error al procesar la imagen: 404 Client Error: Not Found for url: https://lh3.googleusercontent.com/proxy/Gi5qnyuOZ6KqrC4nSrpdwjbhLSyRmHZrHj_R8_n-U8ACSZMNdhhH8YKr6jpAr6WuE36PaazldPles3RlQDpi4OURiqPIQRqxBC45BUyFVH80doWAdssrr-Q\n",
            "No se pudo clasificar la imagen.\n"
          ]
        }
      ],
      "source": [
        "import requests\n",
        "from PIL import Image\n",
        "import numpy as np\n",
        "import io\n",
        "import tensorflow as tf\n",
        "\n",
        "# Cargar el modelo guardado (ajusta la ruta según corresponda)\n",
        "model_path = '/content/drive/MyDrive/Modelos/modelo_vgg16_v4_16cat1.h5'\n",
        "model = tf.keras.models.load_model(model_path)\n",
        "\n",
        "# Lista de nombres de clases (ajusta según tu modelo)\n",
        "class_names = [\n",
        "    'Perico Multicolor',\n",
        "    'Tortuga arrau',\n",
        "    'ballena de aletas',\n",
        "    'gato tigre',\n",
        "    'jaguar',\n",
        "    'jicotea',\n",
        "    'la cotorra cabeciamarilla',\n",
        "    'manati de las Indias',\n",
        "    'mono araña ',\n",
        "    'mono nocturno',\n",
        "    'oso andino',\n",
        "    'oso hormiguero gigante',\n",
        "    'pato de torrente',\n",
        "    'paují de yelmo ',\n",
        "    'tonina',\n",
        "    'venado andino',\n",
        "\n",
        "]\n",
        "\n",
        "# Tamaño de la imagen de entrada\n",
        "IMG_SIZE = 224\n",
        "\n",
        "def classify_image_from_url(url):\n",
        "    try:\n",
        "        # Descargar la imagen desde la URL\n",
        "        response = requests.get(url)\n",
        "        response.raise_for_status()  # Asegura que la descarga fue exitosa\n",
        "        image_data = response.content\n",
        "\n",
        "        # Abrir la imagen con PIL\n",
        "        image = Image.open(io.BytesIO(image_data))\n",
        "\n",
        "        # Asegurarse de que la imagen esté en formato RGB\n",
        "        if image.mode != \"RGB\":\n",
        "            image = image.convert(\"RGB\")\n",
        "\n",
        "        # Redimensionar la imagen a (IMG_SIZE, IMG_SIZE)\n",
        "        image = image.resize((IMG_SIZE, IMG_SIZE))\n",
        "\n",
        "        # Convertir la imagen a un array y normalizar a [0,1]\n",
        "        image_array = np.array(image) / 255.0\n",
        "\n",
        "        # Expandir dimensiones para crear un batch de tamaño 1\n",
        "        image_array = np.expand_dims(image_array, axis=0)\n",
        "\n",
        "        # Realizar la predicción\n",
        "        predictions = model.predict(image_array)\n",
        "        predicted_class = np.argmax(predictions, axis=1)[0]\n",
        "        probability = np.max(predictions)\n",
        "\n",
        "        return class_names[predicted_class], probability\n",
        "    except Exception as e:\n",
        "        print(\"Error al procesar la imagen:\", e)\n",
        "        return None, None\n",
        "\n",
        "# Ejemplo de uso:\n",
        "url = input(\"\")\n",
        "label, prob = classify_image_from_url(url)\n",
        "if label is not None:\n",
        "    print(\"La imagen fue clasificada como:\", label)\n",
        "    print(\"Con una probabilidad de:\", prob)\n",
        "else:\n",
        "    print(\"No se pudo clasificar la imagen.\")\n"
      ]
    },
    {
      "cell_type": "markdown",
      "metadata": {
        "id": "pqm-YnGQAdva"
      },
      "source": [
        "desde aqui la pagina\n"
      ]
    },
    {
      "cell_type": "markdown",
      "metadata": {
        "id": "RCbxhXF71Wxe"
      },
      "source": [
        "INSTALACION DE LO NECESARIO"
      ]
    },
    {
      "cell_type": "code",
      "execution_count": null,
      "metadata": {
        "colab": {
          "base_uri": "https://localhost:8080/"
        },
        "id": "dISVKRYO6WZD",
        "outputId": "9d79d53e-81b0-4393-c587-55004552dd8f"
      },
      "outputs": [
        {
          "output_type": "stream",
          "name": "stdout",
          "text": [
            "Collecting pyngrok\n",
            "  Downloading pyngrok-7.2.3-py3-none-any.whl.metadata (8.7 kB)\n",
            "Requirement already satisfied: PyYAML>=5.1 in /usr/local/lib/python3.11/dist-packages (from pyngrok) (6.0.2)\n",
            "Downloading pyngrok-7.2.3-py3-none-any.whl (23 kB)\n",
            "Installing collected packages: pyngrok\n",
            "Successfully installed pyngrok-7.2.3\n",
            "Collecting streamlit\n",
            "  Downloading streamlit-1.43.1-py2.py3-none-any.whl.metadata (8.9 kB)\n",
            "Requirement already satisfied: altair<6,>=4.0 in /usr/local/lib/python3.11/dist-packages (from streamlit) (5.5.0)\n",
            "Requirement already satisfied: blinker<2,>=1.0.0 in /usr/local/lib/python3.11/dist-packages (from streamlit) (1.9.0)\n",
            "Requirement already satisfied: cachetools<6,>=4.0 in /usr/local/lib/python3.11/dist-packages (from streamlit) (5.5.2)\n",
            "Requirement already satisfied: click<9,>=7.0 in /usr/local/lib/python3.11/dist-packages (from streamlit) (8.1.8)\n",
            "Requirement already satisfied: numpy<3,>=1.23 in /usr/local/lib/python3.11/dist-packages (from streamlit) (1.26.4)\n",
            "Requirement already satisfied: packaging<25,>=20 in /usr/local/lib/python3.11/dist-packages (from streamlit) (24.2)\n",
            "Requirement already satisfied: pandas<3,>=1.4.0 in /usr/local/lib/python3.11/dist-packages (from streamlit) (2.2.2)\n",
            "Requirement already satisfied: pillow<12,>=7.1.0 in /usr/local/lib/python3.11/dist-packages (from streamlit) (11.1.0)\n",
            "Requirement already satisfied: protobuf<6,>=3.20 in /usr/local/lib/python3.11/dist-packages (from streamlit) (4.25.6)\n",
            "Requirement already satisfied: pyarrow>=7.0 in /usr/local/lib/python3.11/dist-packages (from streamlit) (18.1.0)\n",
            "Requirement already satisfied: requests<3,>=2.27 in /usr/local/lib/python3.11/dist-packages (from streamlit) (2.32.3)\n",
            "Requirement already satisfied: tenacity<10,>=8.1.0 in /usr/local/lib/python3.11/dist-packages (from streamlit) (9.0.0)\n",
            "Requirement already satisfied: toml<2,>=0.10.1 in /usr/local/lib/python3.11/dist-packages (from streamlit) (0.10.2)\n",
            "Requirement already satisfied: typing-extensions<5,>=4.4.0 in /usr/local/lib/python3.11/dist-packages (from streamlit) (4.12.2)\n",
            "Collecting watchdog<7,>=2.1.5 (from streamlit)\n",
            "  Downloading watchdog-6.0.0-py3-none-manylinux2014_x86_64.whl.metadata (44 kB)\n",
            "\u001b[2K     \u001b[90m━━━━━━━━━━━━━━━━━━━━━━━━━━━━━━━━━━━━━━━━\u001b[0m \u001b[32m44.3/44.3 kB\u001b[0m \u001b[31m1.8 MB/s\u001b[0m eta \u001b[36m0:00:00\u001b[0m\n",
            "\u001b[?25hRequirement already satisfied: gitpython!=3.1.19,<4,>=3.0.7 in /usr/local/lib/python3.11/dist-packages (from streamlit) (3.1.44)\n",
            "Collecting pydeck<1,>=0.8.0b4 (from streamlit)\n",
            "  Downloading pydeck-0.9.1-py2.py3-none-any.whl.metadata (4.1 kB)\n",
            "Requirement already satisfied: tornado<7,>=6.0.3 in /usr/local/lib/python3.11/dist-packages (from streamlit) (6.4.2)\n",
            "Requirement already satisfied: jinja2 in /usr/local/lib/python3.11/dist-packages (from altair<6,>=4.0->streamlit) (3.1.6)\n",
            "Requirement already satisfied: jsonschema>=3.0 in /usr/local/lib/python3.11/dist-packages (from altair<6,>=4.0->streamlit) (4.23.0)\n",
            "Requirement already satisfied: narwhals>=1.14.2 in /usr/local/lib/python3.11/dist-packages (from altair<6,>=4.0->streamlit) (1.29.1)\n",
            "Requirement already satisfied: gitdb<5,>=4.0.1 in /usr/local/lib/python3.11/dist-packages (from gitpython!=3.1.19,<4,>=3.0.7->streamlit) (4.0.12)\n",
            "Requirement already satisfied: python-dateutil>=2.8.2 in /usr/local/lib/python3.11/dist-packages (from pandas<3,>=1.4.0->streamlit) (2.8.2)\n",
            "Requirement already satisfied: pytz>=2020.1 in /usr/local/lib/python3.11/dist-packages (from pandas<3,>=1.4.0->streamlit) (2025.1)\n",
            "Requirement already satisfied: tzdata>=2022.7 in /usr/local/lib/python3.11/dist-packages (from pandas<3,>=1.4.0->streamlit) (2025.1)\n",
            "Requirement already satisfied: charset-normalizer<4,>=2 in /usr/local/lib/python3.11/dist-packages (from requests<3,>=2.27->streamlit) (3.4.1)\n",
            "Requirement already satisfied: idna<4,>=2.5 in /usr/local/lib/python3.11/dist-packages (from requests<3,>=2.27->streamlit) (3.10)\n",
            "Requirement already satisfied: urllib3<3,>=1.21.1 in /usr/local/lib/python3.11/dist-packages (from requests<3,>=2.27->streamlit) (2.3.0)\n",
            "Requirement already satisfied: certifi>=2017.4.17 in /usr/local/lib/python3.11/dist-packages (from requests<3,>=2.27->streamlit) (2025.1.31)\n",
            "Requirement already satisfied: smmap<6,>=3.0.1 in /usr/local/lib/python3.11/dist-packages (from gitdb<5,>=4.0.1->gitpython!=3.1.19,<4,>=3.0.7->streamlit) (5.0.2)\n",
            "Requirement already satisfied: MarkupSafe>=2.0 in /usr/local/lib/python3.11/dist-packages (from jinja2->altair<6,>=4.0->streamlit) (3.0.2)\n",
            "Requirement already satisfied: attrs>=22.2.0 in /usr/local/lib/python3.11/dist-packages (from jsonschema>=3.0->altair<6,>=4.0->streamlit) (25.1.0)\n",
            "Requirement already satisfied: jsonschema-specifications>=2023.03.6 in /usr/local/lib/python3.11/dist-packages (from jsonschema>=3.0->altair<6,>=4.0->streamlit) (2024.10.1)\n",
            "Requirement already satisfied: referencing>=0.28.4 in /usr/local/lib/python3.11/dist-packages (from jsonschema>=3.0->altair<6,>=4.0->streamlit) (0.36.2)\n",
            "Requirement already satisfied: rpds-py>=0.7.1 in /usr/local/lib/python3.11/dist-packages (from jsonschema>=3.0->altair<6,>=4.0->streamlit) (0.23.1)\n",
            "Requirement already satisfied: six>=1.5 in /usr/local/lib/python3.11/dist-packages (from python-dateutil>=2.8.2->pandas<3,>=1.4.0->streamlit) (1.17.0)\n",
            "Downloading streamlit-1.43.1-py2.py3-none-any.whl (9.7 MB)\n",
            "\u001b[2K   \u001b[90m━━━━━━━━━━━━━━━━━━━━━━━━━━━━━━━━━━━━━━━━\u001b[0m \u001b[32m9.7/9.7 MB\u001b[0m \u001b[31m48.1 MB/s\u001b[0m eta \u001b[36m0:00:00\u001b[0m\n",
            "\u001b[?25hDownloading pydeck-0.9.1-py2.py3-none-any.whl (6.9 MB)\n",
            "\u001b[2K   \u001b[90m━━━━━━━━━━━━━━━━━━━━━━━━━━━━━━━━━━━━━━━━\u001b[0m \u001b[32m6.9/6.9 MB\u001b[0m \u001b[31m50.7 MB/s\u001b[0m eta \u001b[36m0:00:00\u001b[0m\n",
            "\u001b[?25hDownloading watchdog-6.0.0-py3-none-manylinux2014_x86_64.whl (79 kB)\n",
            "\u001b[2K   \u001b[90m━━━━━━━━━━━━━━━━━━━━━━━━━━━━━━━━━━━━━━━━\u001b[0m \u001b[32m79.1/79.1 kB\u001b[0m \u001b[31m5.1 MB/s\u001b[0m eta \u001b[36m0:00:00\u001b[0m\n",
            "\u001b[?25hInstalling collected packages: watchdog, pydeck, streamlit\n",
            "Successfully installed pydeck-0.9.1 streamlit-1.43.1 watchdog-6.0.0\n"
          ]
        }
      ],
      "source": [
        "!pip install pyngrok\n",
        "!pip install streamlit\n"
      ]
    },
    {
      "cell_type": "markdown",
      "metadata": {
        "id": "9xMXHGQGAaPG"
      },
      "source": [
        "autotoken\n"
      ]
    },
    {
      "cell_type": "code",
      "execution_count": null,
      "metadata": {
        "colab": {
          "base_uri": "https://localhost:8080/"
        },
        "id": "sPWAG1J46ql4",
        "outputId": "685c9939-10fe-4daf-8ffe-72c448b48550"
      },
      "outputs": [
        {
          "output_type": "stream",
          "name": "stdout",
          "text": [
            "Authtoken saved to configuration file: /root/.config/ngrok/ngrok.yml\n"
          ]
        }
      ],
      "source": [
        "!ngrok authtoken 2u3j0TEwDK6GRvPFXeMY6MY7RZd_6AnBZT22Y5NPLUPSAtahB"
      ]
    },
    {
      "cell_type": "code",
      "execution_count": null,
      "metadata": {
        "colab": {
          "base_uri": "https://localhost:8080/"
        },
        "id": "6z_tmyWBiklG",
        "outputId": "5eb9a5ad-c97f-4055-f6f4-e74b8c8b7ced"
      },
      "outputs": [
        {
          "output_type": "stream",
          "name": "stdout",
          "text": [
            "Drive already mounted at /content/drive; to attempt to forcibly remount, call drive.mount(\"/content/drive\", force_remount=True).\n"
          ]
        }
      ],
      "source": [
        "from google.colab import drive\n",
        "drive.mount('/content/drive')"
      ]
    },
    {
      "cell_type": "code",
      "execution_count": null,
      "metadata": {
        "colab": {
          "base_uri": "https://localhost:8080/"
        },
        "id": "LAYd7WtNbEU-",
        "outputId": "c98af69b-6e93-44b9-8395-a912ee3be9ad"
      },
      "outputs": [
        {
          "output_type": "stream",
          "name": "stdout",
          "text": [
            "La aplicación está corriendo en: NgrokTunnel: \"https://b2df-34-30-187-242.ngrok-free.app\" -> \"http://localhost:8501\"\n"
          ]
        }
      ],
      "source": [
        "# Iniciar la aplicación Streamlit en un puerto específico\n",
        "from pyngrok import ngrok\n",
        "import os\n",
        "\n",
        "# Abre un túnel en el puerto 8501 (el puerto por defecto de Streamlit)\n",
        "public_url = ngrok.connect(8501)\n",
        "\n",
        "# Iniciar Streamlit\n",
        "os.system('!streamlit run /content/drive/MyDrive/front/app23.py')\n",
        "\n",
        "# Mostrar la URL pública de ngrok\n",
        "print('La aplicación está corriendo en:', public_url)\n"
      ]
    },
    {
      "cell_type": "markdown",
      "metadata": {
        "id": "-TVzEWR9rm2J"
      },
      "source": [
        "Apertura de mi pagina\n"
      ]
    },
    {
      "cell_type": "code",
      "execution_count": null,
      "metadata": {
        "colab": {
          "base_uri": "https://localhost:8080/"
        },
        "id": "zy7P6msga8jd",
        "outputId": "0d05f244-c42e-464a-8874-2b898c0af3b0"
      },
      "outputs": [
        {
          "output_type": "stream",
          "name": "stdout",
          "text": [
            "\n",
            "Collecting usage statistics. To deactivate, set browser.gatherUsageStats to false.\n",
            "\u001b[0m\n",
            "\u001b[0m\n",
            "\u001b[34m\u001b[1m  You can now view your Streamlit app in your browser.\u001b[0m\n",
            "\u001b[0m\n",
            "\u001b[34m  Local URL: \u001b[0m\u001b[1mhttp://localhost:8501\u001b[0m\n",
            "\u001b[34m  Network URL: \u001b[0m\u001b[1mhttp://172.28.0.12:8501\u001b[0m\n",
            "\u001b[34m  External URL: \u001b[0m\u001b[1mhttp://34.30.187.242:8501\u001b[0m\n",
            "\u001b[0m\n",
            "2025-03-11 00:18:07.242907: E external/local_xla/xla/stream_executor/cuda/cuda_fft.cc:477] Unable to register cuFFT factory: Attempting to register factory for plugin cuFFT when one has already been registered\n",
            "WARNING: All log messages before absl::InitializeLog() is called are written to STDERR\n",
            "E0000 00:00:1741652287.273534    1062 cuda_dnn.cc:8310] Unable to register cuDNN factory: Attempting to register factory for plugin cuDNN when one has already been registered\n",
            "E0000 00:00:1741652287.283235    1062 cuda_blas.cc:1418] Unable to register cuBLAS factory: Attempting to register factory for plugin cuBLAS when one has already been registered\n",
            "2025-03-11 00:18:07.312861: I tensorflow/core/platform/cpu_feature_guard.cc:210] This TensorFlow binary is optimized to use available CPU instructions in performance-critical operations.\n",
            "To enable the following instructions: AVX2 FMA, in other operations, rebuild TensorFlow with the appropriate compiler flags.\n",
            "2025-03-11 00:18:12.625906: E external/local_xla/xla/stream_executor/cuda/cuda_driver.cc:152] failed call to cuInit: INTERNAL: CUDA error: Failed call to cuInit: UNKNOWN ERROR (303)\n",
            "WARNING:absl:Compiled the loaded model, but the compiled metrics have yet to be built. `model.compile_metrics` will be empty until you train or evaluate the model.\n",
            "2025-03-11 00:18:17.081 `label` got an empty value. This is discouraged for accessibility reasons and may be disallowed in the future by raising an exception. Please provide a non-empty label and hide it with label_visibility if needed.\n",
            "WARNING:absl:Compiled the loaded model, but the compiled metrics have yet to be built. `model.compile_metrics` will be empty until you train or evaluate the model.\n",
            "2025-03-11 00:19:17.438 `label` got an empty value. This is discouraged for accessibility reasons and may be disallowed in the future by raising an exception. Please provide a non-empty label and hide it with label_visibility if needed.\n",
            "WARNING:absl:Compiled the loaded model, but the compiled metrics have yet to be built. `model.compile_metrics` will be empty until you train or evaluate the model.\n",
            "2025-03-11 00:19:42.260 `label` got an empty value. This is discouraged for accessibility reasons and may be disallowed in the future by raising an exception. Please provide a non-empty label and hide it with label_visibility if needed.\n",
            "WARNING:absl:Compiled the loaded model, but the compiled metrics have yet to be built. `model.compile_metrics` will be empty until you train or evaluate the model.\n",
            "2025-03-11 00:24:29.459 `label` got an empty value. This is discouraged for accessibility reasons and may be disallowed in the future by raising an exception. Please provide a non-empty label and hide it with label_visibility if needed.\n",
            "2025-03-11 00:24:29.512 The `use_column_width` parameter has been deprecated and will be removed in a future release. Please utilize the `use_container_width` parameter instead.\n",
            "\u001b[1m1/1\u001b[0m \u001b[32m━━━━━━━━━━━━━━━━━━━━\u001b[0m\u001b[37m\u001b[0m \u001b[1m1s\u001b[0m 896ms/step\n",
            "WARNING:absl:Compiled the loaded model, but the compiled metrics have yet to be built. `model.compile_metrics` will be empty until you train or evaluate the model.\n",
            "2025-03-11 00:24:35.864 `label` got an empty value. This is discouraged for accessibility reasons and may be disallowed in the future by raising an exception. Please provide a non-empty label and hide it with label_visibility if needed.\n",
            "2025-03-11 00:24:35.866 The `use_column_width` parameter has been deprecated and will be removed in a future release. Please utilize the `use_container_width` parameter instead.\n",
            "\u001b[1m1/1\u001b[0m \u001b[32m━━━━━━━━━━━━━━━━━━━━\u001b[0m\u001b[37m\u001b[0m \u001b[1m1s\u001b[0m 971ms/step\n",
            "2025-03-11 00:24:37.245 Uncaught app execution\n",
            "Traceback (most recent call last):\n",
            "  File \"/usr/local/lib/python3.11/dist-packages/streamlit/runtime/scriptrunner/exec_code.py\", line 121, in exec_func_with_error_handling\n",
            "    result = func()\n",
            "             ^^^^^^\n",
            "  File \"/usr/local/lib/python3.11/dist-packages/streamlit/runtime/scriptrunner/script_runner.py\", line 593, in code_to_exec\n",
            "    exec(code, module.__dict__)\n",
            "  File \"/content/drive/MyDrive/front/app23.py\", line 155, in <module>\n",
            "    log_feedback(predicted_species, f\"{max_probability:.2f}\", \"correcta\")\n",
            "    ^^^^^^^^^^^^\n",
            "NameError: name 'log_feedback' is not defined\n"
          ]
        },
        {
          "output_type": "stream",
          "name": "stderr",
          "text": [
            "WARNING:pyngrok.process.ngrok:t=2025-03-11T00:30:20+0000 lvl=warn msg=\"Stopping forwarder\" name=http-8501-22458410-6e5f-4d43-b751-b2cf6db9cb2a acceptErr=\"failed to accept connection: Listener closed\"\n"
          ]
        },
        {
          "output_type": "stream",
          "name": "stdout",
          "text": [
            "\u001b[34m  Stopping...\u001b[0m\n",
            "\u001b[34m  Stopping...\u001b[0m\n"
          ]
        }
      ],
      "source": [
        "!streamlit run /content/drive/MyDrive/front/app23.py"
      ]
    }
  ],
  "metadata": {
    "accelerator": "GPU",
    "colab": {
      "gpuType": "T4",
      "provenance": [],
      "include_colab_link": true
    },
    "kernelspec": {
      "display_name": "Python 3",
      "name": "python3"
    },
    "language_info": {
      "name": "python"
    }
  },
  "nbformat": 4,
  "nbformat_minor": 0
}